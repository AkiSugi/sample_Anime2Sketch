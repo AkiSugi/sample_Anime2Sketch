{
  "nbformat": 4,
  "nbformat_minor": 0,
  "metadata": {
    "colab": {
      "name": "Anime2Sketch.ipynb",
      "provenance": [],
      "collapsed_sections": [
        "HB6XrdXydr9k"
      ],
      "authorship_tag": "ABX9TyPkRhQ5z+ZHyuHeSXPeqUb1",
      "include_colab_link": true
    },
    "kernelspec": {
      "name": "python3",
      "display_name": "Python 3"
    },
    "language_info": {
      "name": "python"
    },
    "accelerator": "GPU"
  },
  "cells": [
    {
      "cell_type": "markdown",
      "metadata": {
        "id": "view-in-github",
        "colab_type": "text"
      },
      "source": [
        "<a href=\"https://colab.research.google.com/github/AkiSugi/sample_Anime2Sketch/blob/main/Anime2Sketch.ipynb\" target=\"_parent\"><img src=\"https://colab.research.google.com/assets/colab-badge.svg\" alt=\"Open In Colab\"/></a>"
      ]
    },
    {
      "cell_type": "markdown",
      "metadata": {
        "id": "7oZ2XjEFZxyG"
      },
      "source": [
        "# はじめに  \n",
        "Anime2Sketch: A sketch extractor for illustration, anime art, manga  \n",
        "https://github.com/Mukosame/Anime2Sketch  \n",
        "2021/5/18 動作確認済み\n"
      ]
    },
    {
      "cell_type": "markdown",
      "metadata": {
        "id": "nB5zSWW_aDIb"
      },
      "source": [
        "##事前準備  \n"
      ]
    },
    {
      "cell_type": "code",
      "metadata": {
        "id": "U6juF872IG6a"
      },
      "source": [
        "!git clone https://github.com/Mukosame/Anime2Sketch.git"
      ],
      "execution_count": null,
      "outputs": []
    },
    {
      "cell_type": "code",
      "metadata": {
        "id": "HdA35s5RJXBt"
      },
      "source": [
        "%cd Anime2Sketch"
      ],
      "execution_count": null,
      "outputs": []
    },
    {
      "cell_type": "markdown",
      "metadata": {
        "id": "vNk_IaiHZqoF"
      },
      "source": [
        "Pretrained Weights 208M   \n",
        "https://drive.google.com/drive/folders/1Srf-WYUixK0wiUddc9y3pNKHHno5PN6R  \n",
        "ダウンロードリンク  \n",
        "https://drive.google.com/file/d/1RILKwUdjjBBngB17JHwhZNBEaW4Mr-Ml/view?usp=sharing"
      ]
    },
    {
      "cell_type": "code",
      "metadata": {
        "colab": {
          "base_uri": "https://localhost:8080/",
          "height": 35
        },
        "id": "-__hlR-lVgCQ",
        "outputId": "19d46670-b795-4784-db47-53b1ff6a8936"
      },
      "source": [
        "import gdown\n",
        "\n",
        "url='https://drive.google.com/uc?id=1RILKwUdjjBBngB17JHwhZNBEaW4Mr-Ml'\n",
        "output='./weights/netG.pth'\n",
        "gdown.download(url, output, quiet=True)"
      ],
      "execution_count": null,
      "outputs": [
        {
          "output_type": "execute_result",
          "data": {
            "application/vnd.google.colaboratory.intrinsic+json": {
              "type": "string"
            },
            "text/plain": [
              "'./weights/netG.pth'"
            ]
          },
          "metadata": {
            "tags": []
          },
          "execution_count": 3
        }
      ]
    },
    {
      "cell_type": "code",
      "metadata": {
        "id": "WcXFeb8waQCq"
      },
      "source": [
        "!wget \"https://www.ghibli.jp/gallery/totoro029.jpg\" -P test_samples -q\n",
        "!wget \"https://www.ghibli.jp/gallery/porco028.jpg\" -P test_samples -q"
      ],
      "execution_count": null,
      "outputs": []
    },
    {
      "cell_type": "code",
      "metadata": {
        "id": "6pV3pkKYMSgM"
      },
      "source": [
        "from data import get_image_list\n",
        "from model import create_model\n",
        "from data import read_img_path, tensor_to_img, save_image"
      ],
      "execution_count": null,
      "outputs": []
    },
    {
      "cell_type": "code",
      "metadata": {
        "id": "6VQZAkLDV-6o"
      },
      "source": [
        "gpu_ids = [0]\n",
        "# create model\n",
        "model = create_model(gpu_ids)      # create a model given opt.model and other options\n",
        "model.eval()"
      ],
      "execution_count": null,
      "outputs": []
    },
    {
      "cell_type": "markdown",
      "metadata": {
        "id": "cc_tLXzAdATB"
      },
      "source": [
        "# 実行\n"
      ]
    },
    {
      "cell_type": "code",
      "metadata": {
        "id": "zj9BxdkOc8Kj"
      },
      "source": [
        "load_size = 512"
      ],
      "execution_count": null,
      "outputs": []
    },
    {
      "cell_type": "markdown",
      "metadata": {
        "id": "Io3fa0Kmdb0Z"
      },
      "source": [
        "### 指定のファイルのみ\n"
      ]
    },
    {
      "cell_type": "code",
      "metadata": {
        "id": "N01Pz_SsXLdx"
      },
      "source": [
        "test_path = \"test_samples/madoka.jpg\"\n",
        "aus_path = \"./res.png\"\n",
        "\n",
        "img,  aus_resize = read_img_path(test_path, load_size)\n",
        "aus_tensor = model(img)\n",
        "aus_img = tensor_to_img(aus_tensor)\n",
        "save_image(aus_img, aus_path, aus_resize)"
      ],
      "execution_count": null,
      "outputs": []
    },
    {
      "cell_type": "markdown",
      "metadata": {
        "id": "Oqa2X8nedKaa"
      },
      "source": [
        "### 指定のフォルダすべて"
      ]
    },
    {
      "cell_type": "code",
      "metadata": {
        "id": "AZxG51PTY_wA"
      },
      "source": [
        "import os\n",
        "\n",
        "test_list = get_image_list(\"test_samples\")\n",
        "save_dir = \"result\"\n",
        "os.makedirs(save_dir, exist_ok=True)\n",
        "    \n",
        "for test_path in test_list:\n",
        "  basename = os.path.basename(test_path)\n",
        "  aus_path = os.path.join(save_dir, \"sk_\"+basename)\n",
        "  img,  aus_resize = read_img_path(test_path, load_size)\n",
        "  print(basename)\n",
        "  print(aus_resize)\n",
        "  aus_tensor = model(img)\n",
        "  aus_img = tensor_to_img(aus_tensor)\n",
        "  save_image(aus_img, aus_path, aus_resize)\n"
      ],
      "execution_count": null,
      "outputs": []
    },
    {
      "cell_type": "markdown",
      "metadata": {
        "id": "HB6XrdXydr9k"
      },
      "source": [
        "# 古いコード  \n",
        "  GoogleDreiveからのダウンロード  "
      ]
    },
    {
      "cell_type": "code",
      "metadata": {
        "id": "yPQ4WVxkN3wF"
      },
      "source": [
        "# Define some helper functions for downloading pretrained model\n",
        "# taken from this StackOverflow answer: https://stackoverflow.com/a/39225039\n",
        "\n",
        "import requests\n",
        "\n",
        "def download_file_from_google_drive(id, destination):\n",
        "    URL = \"https://docs.google.com/uc?export=download\"\n",
        "\n",
        "    session = requests.Session()\n",
        "\n",
        "    response = session.get(URL, params = { 'id' : id }, stream = True)\n",
        "    token = get_confirm_token(response)\n",
        "\n",
        "    if token:\n",
        "        params = { 'id' : id, 'confirm' : token }\n",
        "        response = session.get(URL, params = params, stream = True)\n",
        "\n",
        "    save_response_content(response, destination)    \n",
        "\n",
        "def get_confirm_token(response):\n",
        "    for key, value in response.cookies.items():\n",
        "        if key.startswith('download_warning'):\n",
        "            return value\n",
        "\n",
        "    return None\n",
        "\n",
        "def save_response_content(response, destination):\n",
        "    CHUNK_SIZE = 32768\n",
        "\n",
        "    with open(destination, \"wb\") as f:\n",
        "        for chunk in response.iter_content(CHUNK_SIZE):\n",
        "            if chunk: # filter out keep-alive new chunks\n",
        "                f.write(chunk)"
      ],
      "execution_count": null,
      "outputs": []
    },
    {
      "cell_type": "code",
      "metadata": {
        "id": "E_LBVmToN2-Q"
      },
      "source": [
        "# download and unzip...\n",
        "file_id = '1RILKwUdjjBBngB17JHwhZNBEaW4Mr-Ml'\n",
        "destination = './weights/netG.pth'\n",
        "download_file_from_google_drive(file_id, destination)"
      ],
      "execution_count": null,
      "outputs": []
    }
  ]
}